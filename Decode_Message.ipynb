{
 "cells": [
  {
   "cell_type": "markdown",
   "id": "0d750ec7",
   "metadata": {},
   "source": [
    "## Coding Exercise:  Decode_Message\n",
    "#### Decoding a Message from a Text File\n",
    "\n",
    "In this exercise, you will develop a function named \"decode(message_file)\". This function should read an encoded message from a .txt file and return its decoded version as a string.\n",
    "\n",
    "Note that you can write your code using any language and IDE you want (Python is preferred if possible, but not mandatory).\n",
    "\n",
    "Your function must be able to process an input file with the following format:\n",
    "\n",
    "3 love\n",
    "\n",
    "6 computers\n",
    "\n",
    "2 dogs\n",
    "\n",
    "4 cats\n",
    "\n",
    "1 I\n",
    "\n",
    "5 you\n",
    "\n",
    "In this file, each line contains a number followed by a word. The task is to decode a hidden message based on the arrangement of these numbers into a \"pyramid\" structure. The numbers are placed into the pyramid in ascending order, with each line of the pyramid having one more number than the line above it. The smallest number is 1, and the numbers increase consecutively, like so:\n",
    "\n",
    "  1\n",
    "  \n",
    " 2 3\n",
    " \n",
    "4 5 6\n",
    "\n",
    "The key to decoding the message is to use the words corresponding to the numbers at the end of each pyramid line (in this example, 1, 3, and 6). You should ignore all the other words. So for the example input file above, the message words are:\n",
    "\n",
    "1: I\n",
    "\n",
    "3: love\n",
    "\n",
    "6: computers\n",
    "\n",
    "and your function should return the string \"I love computers\".\n",
    "\n"
   ]
  },
  {
   "cell_type": "code",
   "execution_count": 219,
   "id": "18369c10",
   "metadata": {},
   "outputs": [],
   "source": [
    "def generate_pyramid(n, Bag):\n",
    "    pyramid, start_num, No_col = [], 1, 1\n",
    "    while start_num<len(Bag):\n",
    "        row= [num for num in Bag[start_num-1:start_num + No_col-1]]\n",
    "        start_num = start_num + No_col\n",
    "        No_col += 1\n",
    "        pyramid.append(row)\n",
    "    return pyramid"
   ]
  },
  {
   "cell_type": "code",
   "execution_count": 220,
   "id": "c7066fc8",
   "metadata": {},
   "outputs": [],
   "source": [
    "def find_word(number, A):\n",
    "    for pair in A:\n",
    "        if pair[0] == str(number):\n",
    "            return pair[1]\n",
    "    return None"
   ]
  },
  {
   "cell_type": "code",
   "execution_count": 221,
   "id": "610cda07",
   "metadata": {},
   "outputs": [],
   "source": [
    "import numpy as np\n",
    "def decode(message_file):\n",
    "    pyramid, inputs, words = [], [], \"\"\n",
    "    with open(message_file, 'r') as file:\n",
    "        for line in file:\n",
    "            inputs.append(line.strip().split(' '))\n",
    "        inputs= np.array(sorted(inputs, key=lambda x: int(x[0])))\n",
    "        pyramid= generate_pyramid(inputs[:,0].shape[0], inputs[:,0].astype('int16'))\n",
    "        for L in pyramid:\n",
    "            words = words + ' ' + (find_word(max(L), inputs))\n",
    "    return words"
   ]
  },
  {
   "cell_type": "code",
   "execution_count": 222,
   "id": "fcf9458f",
   "metadata": {},
   "outputs": [
    {
     "name": "stdout",
     "output_type": "stream",
     "text": [
      " young system present student lot experiment strong crease sun company hurry remember milk us repeat clothe against meant history indicate pitch print bread would\n"
     ]
    }
   ],
   "source": [
    "print(decode('message-2.txt'))"
   ]
  },
  {
   "cell_type": "code",
   "execution_count": null,
   "id": "244646ba",
   "metadata": {},
   "outputs": [],
   "source": []
  }
 ],
 "metadata": {
  "kernelspec": {
   "display_name": "Python 3 (ipykernel)",
   "language": "python",
   "name": "python3"
  },
  "language_info": {
   "codemirror_mode": {
    "name": "ipython",
    "version": 3
   },
   "file_extension": ".py",
   "mimetype": "text/x-python",
   "name": "python",
   "nbconvert_exporter": "python",
   "pygments_lexer": "ipython3",
   "version": "3.11.7"
  }
 },
 "nbformat": 4,
 "nbformat_minor": 5
}
